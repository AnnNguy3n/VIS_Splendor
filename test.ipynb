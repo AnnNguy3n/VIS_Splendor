{
 "cells": [
  {
   "cell_type": "code",
   "execution_count": null,
   "metadata": {},
   "outputs": [],
   "source": [
    "from env import *\n",
    "list_player = [bot_lv0] * 4\n",
    "per_data = np.array([[0.]])"
   ]
  },
  {
   "cell_type": "code",
   "execution_count": null,
   "metadata": {},
   "outputs": [],
   "source": [
    "normal_main(list_player, 10000, np.array([[0.]]))"
   ]
  },
  {
   "cell_type": "code",
   "execution_count": null,
   "metadata": {},
   "outputs": [],
   "source": [
    "numba_main(bot_lv0, bot_lv0, bot_lv0, bot_lv0, 10000, np.array([[0.]]))"
   ]
  },
  {
   "cell_type": "code",
   "execution_count": null,
   "metadata": {},
   "outputs": [],
   "source": [
    "numba_main_2(bot_lv0, 10000, np.array([[0.]]), 0)"
   ]
  }
 ],
 "metadata": {
  "kernelspec": {
   "display_name": "SplendorVenv",
   "language": "python",
   "name": "python3"
  },
  "language_info": {
   "codemirror_mode": {
    "name": "ipython",
    "version": 3
   },
   "file_extension": ".py",
   "mimetype": "text/x-python",
   "name": "python",
   "nbconvert_exporter": "python",
   "pygments_lexer": "ipython3",
   "version": "3.10.9"
  },
  "orig_nbformat": 4,
  "vscode": {
   "interpreter": {
    "hash": "090bba5d9acf2d2bdf61fa4b88fae1f2e8f39222f89552375feb802ac50502a7"
   }
  }
 },
 "nbformat": 4,
 "nbformat_minor": 2
}
